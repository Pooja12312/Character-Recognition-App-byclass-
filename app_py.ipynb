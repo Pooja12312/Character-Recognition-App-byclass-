{
  "nbformat": 4,
  "nbformat_minor": 0,
  "metadata": {
    "colab": {
      "provenance": []
    },
    "kernelspec": {
      "name": "python3",
      "display_name": "Python 3"
    },
    "language_info": {
      "name": "python"
    }
  },
  "cells": [
    {
      "cell_type": "code",
      "execution_count": 1,
      "metadata": {
        "colab": {
          "base_uri": "https://localhost:8080/"
        },
        "id": "kBUKwk5us89K",
        "outputId": "08dd25ac-bc31-474b-a5d9-a213ff86ecee"
      },
      "outputs": [
        {
          "output_type": "stream",
          "name": "stdout",
          "text": [
            "\u001b[2K     \u001b[90m━━━━━━━━━━━━━━━━━━━━━━━━━━━━━━━━━━━━━━━━\u001b[0m \u001b[32m8.5/8.5 MB\u001b[0m \u001b[31m20.8 MB/s\u001b[0m eta \u001b[36m0:00:00\u001b[0m\n",
            "\u001b[2K     \u001b[90m━━━━━━━━━━━━━━━━━━━━━━━━━━━━━━━━━━━━━━━━\u001b[0m \u001b[32m207.3/207.3 kB\u001b[0m \u001b[31m12.7 MB/s\u001b[0m eta \u001b[36m0:00:00\u001b[0m\n",
            "\u001b[2K     \u001b[90m━━━━━━━━━━━━━━━━━━━━━━━━━━━━━━━━━━━━━━━━\u001b[0m \u001b[32m6.9/6.9 MB\u001b[0m \u001b[31m52.7 MB/s\u001b[0m eta \u001b[36m0:00:00\u001b[0m\n",
            "\u001b[2K     \u001b[90m━━━━━━━━━━━━━━━━━━━━━━━━━━━━━━━━━━━━━━━━\u001b[0m \u001b[32m83.0/83.0 kB\u001b[0m \u001b[31m6.3 MB/s\u001b[0m eta \u001b[36m0:00:00\u001b[0m\n",
            "\u001b[2K     \u001b[90m━━━━━━━━━━━━━━━━━━━━━━━━━━━━━━━━━━━━━━━━\u001b[0m \u001b[32m62.7/62.7 kB\u001b[0m \u001b[31m5.5 MB/s\u001b[0m eta \u001b[36m0:00:00\u001b[0m\n",
            "\u001b[?25h"
          ]
        }
      ],
      "source": [
        "!pip install streamlit -q"
      ]
    },
    {
      "cell_type": "markdown",
      "source": [
        "##GUI Interface For Recognition\n",
        "\n",
        "\n",
        "*   Download Model & upload it in the google colab\n",
        "*   Download Font Style & upload it in google colab\n",
        "\n"
      ],
      "metadata": {
        "id": "r4LIXB0_teg0"
      }
    },
    {
      "cell_type": "code",
      "source": [
        "%%writefile app.py\n",
        "import streamlit as st\n",
        "import tensorflow as tf\n",
        "import numpy as np\n",
        "from PIL import Image, ImageDraw, ImageFont\n",
        "import cv2\n",
        "\n",
        "\n",
        "# Load the pre-trained model\n",
        "model = tf.keras.models.load_model(\"/content/model - 32x64 bs_1024 ep_5 acc_0.871 loss_0.345  (1).h5\")\n",
        "\n",
        "# Load the characters list\n",
        "class_idx = ['0','1','2','3','4','5','6','7','8','9',\n",
        "             'A','B','C','D','E','F','G','H','I','J','K','L','M','N','O','P','Q','R','S','T','U','V','W','X','Y','Z',\n",
        "             'a','b','c','d','e','f','g','h','i','j','k','l','m','n','o','p','q','r','s','t','u','v','w','x','y','z']\n",
        "\n",
        "def predict_character(image):\n",
        "    # Convert the image to grayscale\n",
        "    gray_image = cv2.cvtColor(image, cv2.COLOR_RGB2GRAY)\n",
        "\n",
        "    # Resize the image to match model input shape\n",
        "    resized_image = cv2.resize(gray_image, (28, 28))\n",
        "\n",
        "    # Invert the colors\n",
        "    inverted_image = cv2.bitwise_not(resized_image)\n",
        "\n",
        "    # Add channel dimension\n",
        "    input_image = np.expand_dims(inverted_image, axis=-1)\n",
        "    input_image = np.expand_dims(input_image, axis=0)\n",
        "\n",
        "    # Predict the image\n",
        "    scores = model.predict(input_image)\n",
        "\n",
        "    # Get the predicted character index\n",
        "    index = np.argmax(scores)\n",
        "\n",
        "    # Return the predicted character\n",
        "    return class_idx[index]\n",
        "\n",
        "def apply_style(predicted_char, font_size=60):\n",
        "    # Set the font\n",
        "    font_path = \"/content/RowlandDemoCaligraphy.ttf\"  # Path to a font file\n",
        "    font = ImageFont.truetype(font_path, size=font_size)\n",
        "\n",
        "    # Create a blank image with white background\n",
        "    img = Image.new('RGB', (100, 100), color=(255, 255, 255))\n",
        "\n",
        "    # Draw the predicted letter on the image\n",
        "    draw = ImageDraw.Draw(img)\n",
        "\n",
        "    # Calculate text size and position for centering\n",
        "    text_width, text_height = draw.textsize(predicted_char, font=font)\n",
        "    text_x = (100 - text_width) // 2\n",
        "    text_y = (100 - text_height) // 2\n",
        "\n",
        "    draw.text((text_x, text_y), predicted_char, fill=(0, 0, 0), font=font)\n",
        "\n",
        "    return img\n",
        "\n",
        "\n",
        "\n",
        "\n",
        "\n",
        "# Streamlit app\n",
        "st.title(\"Character Recognition App\")\n",
        "\n",
        "# Upload image\n",
        "uploaded_file = st.file_uploader(\"Upload an image from x_test dataset\", type=[\"jpg\", \"png\", \"jpeg\"])\n",
        "\n",
        "# Check if predict button is clicked\n",
        "if uploaded_file is not None:\n",
        "    # Open and display the uploaded image\n",
        "    pil_image = Image.open(uploaded_file)\n",
        "\n",
        "    # Resize uploaded image to a fixed size\n",
        "    fixed_size = (200, 200)\n",
        "    pil_image = pil_image.resize(fixed_size)\n",
        "\n",
        "    st.image(pil_image, caption='Uploaded Image (Fixed Size)', use_column_width=False, width=fixed_size[0])\n",
        "\n",
        "    # Check if predict button is clicked\n",
        "    if st.button(\"Predict\"):\n",
        "        # Convert image to numpy array\n",
        "        image = np.array(pil_image)\n",
        "\n",
        "        # Predict the character\n",
        "        predicted_char = predict_character(image)\n",
        "\n",
        "        # Display the predicted character\n",
        "        st.write(\"Predicted Character:\", predicted_char)\n",
        "\n",
        "        # Apply style to the predicted letter\n",
        "        styled_img = apply_style(predicted_char)\n",
        "\n",
        "        # Display the styled image\n",
        "        st.image(styled_img, caption='Styled Predicted Letter', use_column_width=False)\n"
      ],
      "metadata": {
        "colab": {
          "base_uri": "https://localhost:8080/"
        },
        "id": "r0SvLRP9tGrZ",
        "outputId": "f46b7855-49ab-493d-ecf9-a03aff7400f7"
      },
      "execution_count": 2,
      "outputs": [
        {
          "output_type": "stream",
          "name": "stdout",
          "text": [
            "Writing app.py\n"
          ]
        }
      ]
    },
    {
      "cell_type": "markdown",
      "source": [
        "## Run app.py File by following command"
      ],
      "metadata": {
        "id": "RvyyysKQubiv"
      }
    },
    {
      "cell_type": "code",
      "source": [
        "!streamlit run app.py & npx localtunnel --port 8501"
      ],
      "metadata": {
        "colab": {
          "base_uri": "https://localhost:8080/"
        },
        "id": "puvh4RhLuHzU",
        "outputId": "200bb445-d870-41ae-e0e4-21808d1b6fe4"
      },
      "execution_count": 3,
      "outputs": [
        {
          "output_type": "stream",
          "name": "stdout",
          "text": [
            "\n",
            "Collecting usage statistics. To deactivate, set browser.gatherUsageStats to false.\n",
            "\u001b[0m\n",
            "\u001b[0m\n",
            "\u001b[34m\u001b[1m  You can now view your Streamlit app in your browser.\u001b[0m\n",
            "\u001b[0m\n",
            "\u001b[34m  Network URL: \u001b[0m\u001b[1mhttp://172.28.0.12:8501\u001b[0m\n",
            "\u001b[34m  External URL: \u001b[0m\u001b[1mhttp://34.125.166.132:8501\u001b[0m\n",
            "\u001b[0m\n",
            "\u001b[K\u001b[?25hnpx: installed 22 in 4.802s\n",
            "your url is: https://spotty-walls-appear.loca.lt\n",
            "2024-05-15 19:27:13.236802: E external/local_xla/xla/stream_executor/cuda/cuda_dnn.cc:9261] Unable to register cuDNN factory: Attempting to register factory for plugin cuDNN when one has already been registered\n",
            "2024-05-15 19:27:13.236883: E external/local_xla/xla/stream_executor/cuda/cuda_fft.cc:607] Unable to register cuFFT factory: Attempting to register factory for plugin cuFFT when one has already been registered\n",
            "2024-05-15 19:27:13.238774: E external/local_xla/xla/stream_executor/cuda/cuda_blas.cc:1515] Unable to register cuBLAS factory: Attempting to register factory for plugin cuBLAS when one has already been registered\n",
            "2024-05-15 19:27:13.250082: I tensorflow/core/platform/cpu_feature_guard.cc:182] This TensorFlow binary is optimized to use available CPU instructions in performance-critical operations.\n",
            "To enable the following instructions: AVX2 FMA, in other operations, rebuild TensorFlow with the appropriate compiler flags.\n",
            "2024-05-15 19:27:14.891963: W tensorflow/compiler/tf2tensorrt/utils/py_utils.cc:38] TF-TRT Warning: Could not find TensorRT\n",
            "1/1 [==============================] - 0s 260ms/step\n",
            "/content/app.py:51: DeprecationWarning: textsize is deprecated and will be removed in Pillow 10 (2023-07-01). Use textbbox or textlength instead.\n",
            "  text_width, text_height = draw.textsize(predicted_char, font=font)\n",
            "\u001b[34m  Stopping...\u001b[0m\n",
            "^C\n"
          ]
        }
      ]
    }
  ]
}